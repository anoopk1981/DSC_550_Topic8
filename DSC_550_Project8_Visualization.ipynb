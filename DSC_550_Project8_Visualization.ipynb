{
 "cells": [
  {
   "cell_type": "code",
   "execution_count": 3,
   "metadata": {
    "collapsed": true
   },
   "outputs": [
    {
     "data": {
      "text/plain": "<Figure size 432x288 with 1 Axes>",
      "image/png": "[encoded data removed]"
     },
     "metadata": {
      "needs_background": "light"
     },
     "output_type": "display_data"
    }
   ],
   "source": [
    "import numpy as np\n",
    "import matplotlib.pyplot as plt\n",
    "import pandas as pd\n",
    "import random\n",
    "\n",
    "\n",
    "class ThompsonSampling:\n",
    "    def __init__(self, path, N, m):\n",
    "        self.__N = N\n",
    "        self.__m = m\n",
    "        self.__machine_selected = []\n",
    "        self.__number_of_rewards_1 = [0] * m\n",
    "        self.__number_of_rewards_0 = [0] * m\n",
    "        self.__total_rewards = 0\n",
    "        self.__dataset = pd.read_csv(path)\n",
    "\n",
    "    def implement_thompson_sampling(self):\n",
    "        for round in range(self.__N):\n",
    "            machine = -1\n",
    "            max_random = 0\n",
    "            for mac in range(self.__m):\n",
    "                beta = random.betavariate(self.__number_of_rewards_1[mac] + 1, self.__number_of_rewards_0[mac] + 1)\n",
    "                if beta > max_random:\n",
    "                    max_random = beta\n",
    "                    machine = mac\n",
    "            self.__machine_selected.append(machine)\n",
    "            reward = self.__dataset.values[round, machine]\n",
    "            if reward == 1:\n",
    "                self.__number_of_rewards_1[machine] += 1\n",
    "            else:\n",
    "                self.__number_of_rewards_0[machine] += 1\n",
    "            self.__total_rewards += reward\n",
    "\n",
    "    def visualize(self):\n",
    "        plt.hist(self.__machine_selected)\n",
    "        plt.title(\"Histogram of machines selected\")\n",
    "        plt.xlabel(\"Machines\")\n",
    "        plt.ylabel(\"Number of times each machine was selected\")\n",
    "        plt.plot()\n",
    "        input()\n",
    "\n",
    "\n",
    "path = \"C:\\\\Users\\\\Anoops\\\\PycharmProjects\\\\pythonProject\\\\dataset.csv\"\n",
    "N = 100\n",
    "m = 5\n",
    "ts = ThompsonSampling(path, N, m)\n",
    "ts.implement_thompson_sampling()\n",
    "ts.visualize()\n"
   ]
  }
 ],
 "metadata": {
  "kernelspec": {
   "display_name": "Python 3",
   "language": "python",
   "name": "python3"
  },
  "language_info": {
   "codemirror_mode": {
    "name": "ipython",
    "version": 2
   },
   "file_extension": ".py",
   "mimetype": "text/x-python",
   "name": "python",
   "nbconvert_exporter": "python",
   "pygments_lexer": "ipython2",
   "version": "2.7.6"
  }
 },
 "nbformat": 4,
 "nbformat_minor": 0
}